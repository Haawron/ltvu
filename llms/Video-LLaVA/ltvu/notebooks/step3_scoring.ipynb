{
 "cells": [
  {
   "cell_type": "code",
   "execution_count": null,
   "metadata": {},
   "outputs": [],
   "source": [
    "import json\n",
    "from pathlib import Path\n",
    "\n",
    "p_caption_json = Path('/data/gunsbrother/prjs/ltvu/llms/Video-LLaVA/ltvu/captions/test/step2-3/0aca0078-b6ab-41fb-9dc5-a70b8ad137b2/9e5cd376-1b29-5861-8115-be750272d0a9.json')\n",
    "with p_caption_json.open() as f:\n",
    "    data = json.load(f)"
   ]
  },
  {
   "cell_type": "code",
   "execution_count": null,
   "metadata": {},
   "outputs": [],
   "source": [
    "data['step3']['debators'][1]['debator']['conv']['messages']"
   ]
  },
  {
   "cell_type": "code",
   "execution_count": null,
   "metadata": {},
   "outputs": [],
   "source": [
    "import re\n",
    "def find_floats(s: str) -> float|tuple[float]:\n",
    "    floats = re.findall(r'\\d*\\.?\\d+', s)\n",
    "    try:\n",
    "        floats = list(map(float, floats))\n",
    "    except ValueError as e:\n",
    "        print(e)\n",
    "    if len(floats) == 1:\n",
    "        return floats[0]\n",
    "    else:\n",
    "        return floats"
   ]
  },
  {
   "cell_type": "code",
   "execution_count": null,
   "metadata": {},
   "outputs": [],
   "source": [
    "final_answer = data['step3']['debators'][0]['debator']['conv']['messages'][-1][-1]\n",
    "final_prediction = find_floats(final_answer)\n",
    "if len(final_prediction) == 2:\n",
    "    s, e = final_prediction\n",
    "else:\n",
    "    pass  # keep the first prediction"
   ]
  },
  {
   "cell_type": "markdown",
   "metadata": {},
   "source": [
    "# Windowing\n",
    "\n",
    "`duration, gt_start_sec, gt_end_sec` $\\rightarrow$ `window_start_sec, window_end_sec, gt_window_start_sec, gt_window_end_sec`"
   ]
  },
  {
   "cell_type": "code",
   "execution_count": null,
   "metadata": {},
   "outputs": [],
   "source": []
  },
  {
   "cell_type": "code",
   "execution_count": null,
   "metadata": {},
   "outputs": [],
   "source": [
    "from"
   ]
  }
 ],
 "metadata": {
  "kernelspec": {
   "display_name": "s4",
   "language": "python",
   "name": "python3"
  },
  "language_info": {
   "codemirror_mode": {
    "name": "ipython",
    "version": 3
   },
   "file_extension": ".py",
   "mimetype": "text/x-python",
   "name": "python",
   "nbconvert_exporter": "python",
   "pygments_lexer": "ipython3",
   "version": "3.10.12"
  }
 },
 "nbformat": 4,
 "nbformat_minor": 2
}
