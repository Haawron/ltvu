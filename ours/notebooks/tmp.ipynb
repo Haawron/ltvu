{
 "cells": [
  {
   "cell_type": "code",
   "execution_count": 8,
   "metadata": {},
   "outputs": [
    {
     "name": "stdout",
     "output_type": "stream",
     "text": [
      "{'language_model_name': 'google/flan-t5-base', 'max_ctx_len': 256, 'head_name': 'af', 'lr': 1e-05, 'recall_ks': [1, 5, 10, 15, 20], 'train_backbone': False, 'caption_stride_sec': 2}\n"
     ]
    }
   ],
   "source": [
    "# load yaml\n",
    "import yaml\n",
    "\n",
    "p_yaml = 'results/without_rgb/mips-trained/google--flan-t5-base/version_42/hparams.yaml'\n",
    "with open(p_yaml, 'r') as f:\n",
    "    hparams = yaml.safe_load(f)\n"
   ]
  }
 ],
 "metadata": {
  "kernelspec": {
   "display_name": "ltvu",
   "language": "python",
   "name": "python3"
  },
  "language_info": {
   "codemirror_mode": {
    "name": "ipython",
    "version": 3
   },
   "file_extension": ".py",
   "mimetype": "text/x-python",
   "name": "python",
   "nbconvert_exporter": "python",
   "pygments_lexer": "ipython3",
   "version": "3.12.2"
  }
 },
 "nbformat": 4,
 "nbformat_minor": 2
}
