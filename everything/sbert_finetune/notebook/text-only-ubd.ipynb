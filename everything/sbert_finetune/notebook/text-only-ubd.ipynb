{
 "cells": [
  {
   "cell_type": "code",
   "execution_count": 5,
   "metadata": {},
   "outputs": [],
   "source": [
    "import json\n",
    "from pathlib import Path\n",
    "import torch\n",
    "import numpy as np"
   ]
  },
  {
   "cell_type": "code",
   "execution_count": 13,
   "metadata": {},
   "outputs": [
    {
     "data": {
      "text/plain": [
       "{'video_id': 'cc2d7790-67f7-4e52-9fa9-33121c9431a2',\n",
       " 'sample_id': '95441b96-e2ef-4e61-b74f-10ebc2da5b4e_0',\n",
       " 'question': 'Where did i put the fire gun ?',\n",
       " 'moment_start_frame': 858.1167,\n",
       " 'moment_end_frame': 870.3900000000001,\n",
       " 'clip_start_sec': 28.60389,\n",
       " 'clip_end_sec': 29.013,\n",
       " 'clip_duration': 480.0156449908854}"
      ]
     },
     "execution_count": 13,
     "metadata": {},
     "output_type": "execute_result"
    }
   ],
   "source": [
    "p_ann_json = Path('/data/gunsbrother/prjs/ltvu/llms/GroundVQA/data/unified/annotations.NLQ_val.json')\n",
    "anns = json.load(p_ann_json.open())\n",
    "anns[0]"
   ]
  },
  {
   "cell_type": "code",
   "execution_count": 17,
   "metadata": {},
   "outputs": [
    {
     "data": {
      "text/plain": [
       "array([0.013637  , 0.05734267, 0.01352567, 0.03523333, 0.02256433,\n",
       "       0.11907233, 0.02614067, 0.01175667, 0.05799467, 0.02328067])"
      ]
     },
     "execution_count": 17,
     "metadata": {},
     "output_type": "execute_result"
    }
   ],
   "source": [
    "max_ious = []\n",
    "\n",
    "for ann in anns:\n",
    "    duration_sec = ann['clip_duration']\n",
    "    ts = np.arange(0, duration_sec, 10)\n",
    "    preds = np.stack([ts - 15., ts + 15.], axis=1)\n",
    "    gt = np.array([ann['clip_start_sec'], ann['clip_end_sec']])\n",
    "\n",
    "    inters = np.maximum(0, np.minimum(preds[:, 1], gt[1]) - np.maximum(preds[:, 0], gt[0]))\n",
    "    unions = np.maximum(preds[:, 1], gt[1]) - np.minimum(preds[:, 0], gt[0])\n",
    "    ious = inters / unions\n",
    "    max_ious.append(ious.max())\n",
    "max_ious = np.array(max_ious)\n",
    "max_ious[:10]"
   ]
  },
  {
   "cell_type": "code",
   "execution_count": 18,
   "metadata": {},
   "outputs": [
    {
     "data": {
      "text/plain": [
       "0.2592267135325132"
      ]
     },
     "execution_count": 18,
     "metadata": {},
     "output_type": "execute_result"
    }
   ],
   "source": [
    "(max_ious > .3).mean()"
   ]
  },
  {
   "cell_type": "code",
   "execution_count": 19,
   "metadata": {},
   "outputs": [
    {
     "data": {
      "text/plain": [
       "0.14015817223198593"
      ]
     },
     "execution_count": 19,
     "metadata": {},
     "output_type": "execute_result"
    }
   ],
   "source": [
    "(max_ious > .5).mean()"
   ]
  }
 ],
 "metadata": {
  "kernelspec": {
   "display_name": "sbert3",
   "language": "python",
   "name": "python3"
  },
  "language_info": {
   "codemirror_mode": {
    "name": "ipython",
    "version": 3
   },
   "file_extension": ".py",
   "mimetype": "text/x-python",
   "name": "python",
   "nbconvert_exporter": "python",
   "pygments_lexer": "ipython3",
   "version": "3.12.3"
  }
 },
 "nbformat": 4,
 "nbformat_minor": 2
}
